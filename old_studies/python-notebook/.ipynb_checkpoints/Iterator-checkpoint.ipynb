{
 "cells": [
  {
   "cell_type": "markdown",
   "metadata": {},
   "source": [
    "#Examining Iterators in Python\n",
    "\n",
    "In this session we are going to look at iterable/iterator objects\n",
    "\n",
    "An iterable is a class that impments the \\_\\_next\\_\\_ method.\n",
    "An iterator is a class that implements the \\_\\_iter\\_\\_ method. The iter() method must return an iterable. If an iterator is also an iterable, then the iter() method must return 'self'\n",
    "\n",
    "\n",
    "An iterator doesn't have to be iterable and vice versa. We can put iter() and next() in one class to make that class an iterable iterator. "
   ]
  },
  {
   "cell_type": "code",
   "execution_count": 3,
   "metadata": {
    "collapsed": false
   },
   "outputs": [],
   "source": [
    "# this class is an iterable\n",
    "class Iterable_class:\n",
    "    def __next__():\n",
    "        pass"
   ]
  },
  {
   "cell_type": "code",
   "execution_count": 5,
   "metadata": {
    "collapsed": true
   },
   "outputs": [],
   "source": [
    "# this class is an iterator\n",
    "class Iterator_class:\n",
    "    def __iter__():\n",
    "        return Iterable_class()\n"
   ]
  },
  {
   "cell_type": "markdown",
   "metadata": {},
   "source": [
    "From Dive into Python3, we are going to look at an iterator/iterable class. Our iterator/iterable is goint to read a file containing regular expression rules; then put the rules into a cache list to be used later. "
   ]
  },
  {
   "cell_type": "code",
   "execution_count": 6,
   "metadata": {
    "collapsed": true
   },
   "outputs": [],
   "source": [
    "class LazyRule:\n",
    "    re_patternfile = 're_plural_rules.txt'\n",
    "\n",
    "    def __init__(self):\n",
    "        print('calling init')\n",
    "        self.pattern_file = open(self.re_patternfile, 'r')\n",
    "        self.cache = []\n",
    "\n",
    "    def __iter__(self):\n",
    "        self.cache_index = 0\n",
    "        print('calling iter')\n",
    "        return self\n",
    "\n",
    "    def __next__(self):\n",
    "        self.cache_index += 1\n",
    "        print(self.cache_index, len(self.cache))\n",
    "        if len(self.cache) >= self.cache_index:\n",
    "            return self.cache[self.cache_index-1]\n",
    "\n",
    "        if self.pattern_file.closed:\n",
    "            print('stopIter: pattern file is closed ')\n",
    "            raise StopIteration\n",
    "\n",
    "        line = self.pattern_file.readline()\n",
    "        if not line:\n",
    "            print('stopIter: pattern file is exhausted')\n",
    "            self.pattern_file.close()\n",
    "            raise StopIteration\n",
    "\n",
    "        pattern, search, replace = line.split(';', 3)\n",
    "        func = build_match_and_apply(pattern, search, replace)\n",
    "        self.cache.append(func)\n",
    "        return func\n"
   ]
  },
  {
   "cell_type": "markdown",
   "metadata": {},
   "source": [
    "In this class, the 're_patternfile' variable is a class variable. A class variable is avaiable to all instances of the class and can be accessed via 'self.re_patternfile'. \n",
    "\n",
    "Because our class is an iterator/iterable, the iter() method return self instead of returning another iterable class; and our class also implement the next() method. Here is how we use our LazyRules class:\n",
    "        rules = LazyRule()\n",
    "        for match_rule, apply_rule in rules:\n",
    "First, we instatiate the class and assign that object to 'rules'. The institiation calls init() to open the self.re_patternfile. When we enter the for loop, python call iter() method from rules. After calling the iter() method, the for loop will continues to call the next() method until StopIteration is raised. \n",
    "\n",
    "There are three parts in our next() method and we will dissect them next. However, we ware going to visit them in reverse order.\n",
    "\n",
    "        pattern, search, replace = line.split(';', 3)\n",
    "        func = build_match_and_apply(pattern, search, replace)\n",
    "        self.cache.append(func)\n",
    "        return func\n",
    "This block at the end process each new line from the re_patternfile, append the new rules into the cache, and return the tuple func. \n",
    "\n",
    "        if self.pattern_file.closed:\n",
    "            print('stopIter: pattern file is closed ')\n",
    "            raise StopIteration\n",
    "\n",
    "        line = self.pattern_file.readline()\n",
    "        if not line:\n",
    "            print('stopIter: pattern file is exhausted')\n",
    "            self.pattern_file.close()\n",
    "            raise StopIteration\n",
    "This block is a two parters. First, it says that if the file is closed, raise the StopIteration and the for loop will catch that exception and terminate. The second part handles closing the file when we have already read the last line; this also raise the StopIteration to terminate the for loop. When either of these conditions are met, we are not going to expand our cache list. \n",
    "\n",
    "        self.cache_index += 1\n",
    "        print(self.cache_index, len(self.cache))\n",
    "        if len(self.cache) >= self.cache_index:\n",
    "            return self.cache[self.cache_index-1]\n",
    "The first time we process the re_patternfile, this 'if' condition in this block is ignore. After we process everything in the rule file, the StopIteration is raised, the next time we enter our for loop again, iter() set the cache_index to zero and our if statement here become valid. Each for loop call, as long as the increased cache_index is less than the cache length, our next() method will return something, and we won't reach the 'if self.pattern_file.closed: StopIteration' condition (remember that we only process the file and expand the cache with rules in the first for loop. In subsequent for loops, we only only return elements of the cache list). Until the cache_index exceeds the length of the cache list, then we will not return the element of the cache; instead, we will reach the block where we are checking for closed file and raise the StopIteration. "
   ]
  },
  {
   "cell_type": "markdown",
   "metadata": {},
   "source": [
    "###Lesson Learned\n",
    "1. next() method needs to return something before a condtion to Stop the iteration. \n",
    "2. iter() is called once when entering the for loop.\n",
    "3. Iterator and iterable are different implementations. \n",
    "4. We can combine iterator and iterable. "
   ]
  }
 ],
 "metadata": {
  "kernelspec": {
   "display_name": "Python 2",
   "language": "python",
   "name": "python2"
  },
  "language_info": {
   "codemirror_mode": {
    "name": "ipython",
    "version": 2
   },
   "file_extension": ".py",
   "mimetype": "text/x-python",
   "name": "python",
   "nbconvert_exporter": "python",
   "pygments_lexer": "ipython2",
   "version": "2.7.6"
  }
 },
 "nbformat": 4,
 "nbformat_minor": 0
}
