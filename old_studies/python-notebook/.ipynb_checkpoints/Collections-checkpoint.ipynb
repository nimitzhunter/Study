{
 "cells": [
  {
   "cell_type": "markdown",
   "metadata": {},
   "source": [
    "#collections module\n",
    "\n",
    "    1.Counter([iterable or mapping]): count how many duplicate items are in the iterable\n",
    "    * most_common(): return the element that appear the most\n",
    "    * element(): return the iterator that contain all the elements of the iterables that are stored in the Counter container.\n",
    "    * subtract([iterable or mapping]): decrease the count of each element in the container. The output may be negative"
   ]
  },
  {
   "cell_type": "code",
   "execution_count": 40,
   "metadata": {
    "collapsed": false
   },
   "outputs": [
    {
     "name": "stdout",
     "output_type": "stream",
     "text": [
      "2\n",
      "6\n",
      "['a', 'a', 's', 's', 'd', 'd', 'f', 'f', 'f', 'f', 'f', 'f']\n",
      "[('f', 6), ('a', 2), ('s', 2), ('d', 2)]\n",
      "Counter({'f': 6, 'a': 2, 's': 2, 'd': 2})\n",
      "Counter({'f': 6, 's': 2, 'd': 2, 'a': 1})\n",
      "Counter({'f': 6, 's': 2, 'd': 2, 'a': 0})\n",
      "Counter({'c': 10, 'a': -1, 'b': -2})\n",
      "Counter({'c': 10, 'a': -2, 'b': -2})\n"
     ]
    }
   ],
   "source": [
    "from collections import *\n",
    "\n",
    "mycounter = Counter('asdfasdfffff')\n",
    "print mycounter['a']\n",
    "print mycounter['f']\n",
    "\n",
    "print [i for i in mycounter.elements()]\n",
    "print mycounter.most_common()\n",
    "\n",
    "a = mycounter.elements()\n",
    "[i for i in a]\n",
    "\n",
    "print mycounter\n",
    "mycounter.subtract('a')\n",
    "print mycounter\n",
    "mycounter.subtract('a')\n",
    "print mycounter\n",
    "\n",
    "\n",
    "counter1 = Counter(a=-1,b=-2,c=10) # passing in a dictionary\n",
    "print counter1\n",
    "counter1.subtract('a')\n",
    "print counter1"
   ]
  },
  {
   "cell_type": "code",
   "execution_count": null,
   "metadata": {
    "collapsed": true
   },
   "outputs": [],
   "source": []
  }
 ],
 "metadata": {
  "kernelspec": {
   "display_name": "Python 2",
   "language": "python",
   "name": "python2"
  },
  "language_info": {
   "codemirror_mode": {
    "name": "ipython",
    "version": 2
   },
   "file_extension": ".py",
   "mimetype": "text/x-python",
   "name": "python",
   "nbconvert_exporter": "python",
   "pygments_lexer": "ipython2",
   "version": "2.7.6"
  }
 },
 "nbformat": 4,
 "nbformat_minor": 0
}
