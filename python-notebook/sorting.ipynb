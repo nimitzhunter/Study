{
 "cells": [
  {
   "cell_type": "markdown",
   "metadata": {},
   "source": [
    "#Sort\n",
    "\n",
    "Python has the a builtin funciton **sorted** for sorting. \n",
    "\n",
    "sorted(iterable[,key[,reverse]])\n",
    "\n",
    "With reverse omitted, **sorted** returns the result in increasing order\n"
   ]
  },
  {
   "cell_type": "code",
   "execution_count": 3,
   "metadata": {
    "collapsed": false
   },
   "outputs": [
    {
     "name": "stdout",
     "output_type": "stream",
     "text": [
      "[2, 2, 3, 3, 3, 4, 4, 5]\n",
      "[5, 4, 4, 3, 3, 3, 2, 2]\n"
     ]
    }
   ],
   "source": [
    "print sorted([3,2,3,4,5,4,3,2])\n",
    "print sorted([3,2,3,4,5,4,3,2],reverse=True)"
   ]
  },
  {
   "cell_type": "markdown",
   "metadata": {},
   "source": [
    "**sorted** takes in the argument 'key' which is a function. The function 'key' is applied to each element in of the iterable before the comparision is made. \n",
    "\n",
    "The **key** function should take ***ONLY ONE ARGUMENT*** and return a ***KEY*** to be used in the comparision test.  "
   ]
  },
  {
   "cell_type": "code",
   "execution_count": 9,
   "metadata": {
    "collapsed": false
   },
   "outputs": [
    {
     "name": "stdout",
     "output_type": "stream",
     "text": [
      "[('John', 23, 'A'), ('Janet', 23, 'B-'), ('Adam', 40, 'B')]\n",
      "[('Adam', 40, 'B'), ('Janet', 23, 'B-'), ('John', 23, 'A')]\n",
      "[('John', 23, 'A'), ('Adam', 40, 'B'), ('Janet', 23, 'B-')]\n"
     ]
    }
   ],
   "source": [
    "people_tuple = [(\"John\",23,\"A\"),(\"Adam\",40,\"B\"),(\"Janet\",23,\"B-\")]\n",
    "print sorted(people_tuple,key = lambda tuple_elem: tuple_elem[1]) # sorted by the second element of the tuple\n",
    "print sorted(people_tuple,key = lambda tuple_elem: tuple_elem[0]) # sorted by the first element of the tuple\n",
    "print sorted(people_tuple,key = lambda tuple_elem: tuple_elem[2]) # sorted by the third elemtn of the tuple"
   ]
  },
  {
   "cell_type": "markdown",
   "metadata": {},
   "source": [
    "from the *opertator* lib, the functions 'itemgetter' and attrgetter can be used for quickly creating a function for key. \n"
   ]
  },
  {
   "cell_type": "code",
   "execution_count": 10,
   "metadata": {
    "collapsed": false
   },
   "outputs": [
    {
     "name": "stdout",
     "output_type": "stream",
     "text": [
      "[('Angela', 'B-', 18), ('Jack', 'C+', 20), ('Izzy', 'A-', 26)]\n",
      "[('Angela', 'B-', 18), ('Izzy', 'A-', 26), ('Jack', 'C+', 20)]\n"
     ]
    }
   ],
   "source": [
    "from operator import itemgetter, attrgetter # obtain the function to use.\n",
    "\n",
    "\n",
    "class Student:\n",
    "\n",
    "    def __init__(self, name, grade, age):\n",
    "        self.name = name\n",
    "        self.grade = grade\n",
    "        self.age = age\n",
    "\n",
    "    def __getitem__(self, key):\n",
    "        '''\n",
    "        Implement __getitem__ to be used with the operator.itemgetter\n",
    "        '''\n",
    "        if key == 0:\n",
    "            return self.name\n",
    "        elif key == 1:\n",
    "            return self.grade\n",
    "        elif key == 2:\n",
    "            return self.age\n",
    "\n",
    "    def __repr__(self):\n",
    "        '''\n",
    "        use this if we want to format how an instance be printed.\n",
    "        \n",
    "        without __repr__ \n",
    "        print Student('A','D',0) will show <__main__.Student instance at etc...>\n",
    "        \n",
    "        with __repr__\n",
    "        print Student('A','D',0) will show \"('A','D',0)\"\n",
    "        '''\n",
    "        return repr((self.name, self.grade, self.age))\n",
    "\n",
    "s1 = Student('Jack', 'C+', 20)\n",
    "s2 = Student('Angela', 'B-', 18)\n",
    "s3 = Student('Izzy', 'A-', 26)\n",
    "\n",
    "student_list = [s1, s3, s2]\n",
    "\n",
    "# use the attrbute 'age' as the sort key\n",
    "print sorted(student_list, key=attrgetter('age'))\n",
    "print sorted(student_list, key=itemgetter(0)) # get self.name. this can change according to how we implement __getitem__\n"
   ]
  },
  {
   "cell_type": "markdown",
   "metadata": {},
   "source": [
    "Sort is guaranteed to be stable (the order of two items with identical keys are reserved)\n"
   ]
  },
  {
   "cell_type": "code",
   "execution_count": 14,
   "metadata": {
    "collapsed": false
   },
   "outputs": [
    {
     "data": {
      "text/plain": [
       "[('Mark', 'D', 20), ('Tomlingson', 'D', 19), ('Thalia', 'F', 18)]"
      ]
     },
     "execution_count": 14,
     "metadata": {},
     "output_type": "execute_result"
    }
   ],
   "source": [
    "student_list2=[Student('Mark','D',20),Student('Thalia','F',18),Student('Tomlingson','D',19)]\n",
    "sorted(student_list2,key=attrgetter('grade')) # Mark and Tomlingson has the same grade,\n",
    "# since the sort is stable, Mark is put before Tomlingson because this is the original ordering int he list. "
   ]
  },
  {
   "cell_type": "code",
   "execution_count": null,
   "metadata": {
    "collapsed": true
   },
   "outputs": [],
   "source": []
  }
 ],
 "metadata": {
  "kernelspec": {
   "display_name": "Python 2",
   "language": "python",
   "name": "python2"
  },
  "language_info": {
   "codemirror_mode": {
    "name": "ipython",
    "version": 2
   },
   "file_extension": ".py",
   "mimetype": "text/x-python",
   "name": "python",
   "nbconvert_exporter": "python",
   "pygments_lexer": "ipython2",
   "version": "2.7.6"
  }
 },
 "nbformat": 4,
 "nbformat_minor": 0
}
