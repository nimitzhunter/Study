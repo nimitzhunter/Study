{
 "cells": [
  {
   "cell_type": "markdown",
   "metadata": {},
   "source": [
    "# Decorators\n",
    "\n",
    "Functions are objects in python. Any function can be passed into another function as an argument\n",
    "\n",
    "Look at the function `outer()` below, outer takes one function object as its argument. \n",
    "\n",
    "We define a function `inner` inside of our `outer()` function. Because of closure, `inner()` has access to the function object argument func_arg; `inner()` call func_arg() and return whatever func_arg() returns. \n",
    "\n",
    "Finally, our `outer()` function return the `inner` function. The `outer` function can do this because `inner` is just an object, and any object can be return. \n",
    "\n",
    "the call `myfoo = outer(myfoo)` does three things:\n",
    "    1. the function object myfoo is passed into outer as an argument st. outer(func_arg=myfoo).\n",
    "    2. Inside outer(), myfoo is called by the function inner() and return the results that myfoo() return. \n",
    "    3. Finnal, outer return the inner function object and assign it to myfoo. \n",
    "###Note: myfoo initially did not take in any argument. After we wrap outer around myfoo, our function now takes one arguments. \n"
   ]
  },
  {
   "cell_type": "code",
   "execution_count": 3,
   "metadata": {
    "collapsed": false
   },
   "outputs": [
    {
     "name": "stdout",
     "output_type": "stream",
     "text": [
      "this is outer\n",
      "this is inner hehe\n",
      "this is foo\n"
     ]
    }
   ],
   "source": [
    "def myfoo():\n",
    "    print 'this is foo'\n",
    "    \n",
    "def outer(func_arg):\n",
    "    print 'this is outer'\n",
    "    def inner(mystr):\n",
    "        print 'this is inner '+ mystr\n",
    "        return func_arg()\n",
    "    return inner\n",
    "\n",
    "myfoo = outer(myfoo)\n",
    "myfoo('hehe')"
   ]
  },
  {
   "cell_type": "markdown",
   "metadata": {},
   "source": [
    "Doing `myfoo = outer(myfoo)` is dangerous. If we move the code around during refactoring, the result maybe suble and difficult to debug. Python has a better way to do it via the token `@` to decorate the funciton `myfoo`. "
   ]
  },
  {
   "cell_type": "code",
   "execution_count": 5,
   "metadata": {
    "collapsed": false
   },
   "outputs": [
    {
     "name": "stdout",
     "output_type": "stream",
     "text": [
      "this is outer\n",
      "this is inner haha\n",
      "this is foo\n"
     ]
    }
   ],
   "source": [
    "\n",
    "    \n",
    "def outer(func_arg):\n",
    "    print 'this is outer'\n",
    "    def inner(mystr):\n",
    "        print 'this is inner '+ mystr\n",
    "        return func_arg()\n",
    "    return inner\n",
    "\n",
    "@outer      # doing myfoo = outer(myfoo)\n",
    "def myfoo():\n",
    "    print 'this is foo'\n",
    "    \n",
    "myfoo('haha')"
   ]
  },
  {
   "cell_type": "markdown",
   "metadata": {},
   "source": [
    "## Using class as an decorator.\n",
    "\n",
    "We can create an decorator function object. Here is the step to do this:\n",
    "    1. pass in function argument into the __init__ method. \n",
    "    2. Implement the method __call__"
   ]
  },
  {
   "cell_type": "code",
   "execution_count": 12,
   "metadata": {
    "collapsed": false
   },
   "outputs": [
    {
     "name": "stdout",
     "output_type": "stream",
     "text": [
      "inside init\n",
      "after decorating\n",
      "inside __call__\n",
      "arguments =  [10, 12]\n",
      "23\n"
     ]
    }
   ],
   "source": [
    "class MyDecorator(object):\n",
    "    def __init__(self,func_object):\n",
    "        self.func_object = func_object\n",
    "        print 'inside init'\n",
    "    def __call__(self,*args):\n",
    "        '''\n",
    "        this method is not called until the decorated function is called\n",
    "        '''\n",
    "        print 'inside __call__'\n",
    "        print 'arguments = ',[i for i in args]\n",
    "        return self.func_object(*args)+1\n",
    "    \n",
    "@MyDecorator # the same as add = MyDecorator(add). Now add is an object of type MyDecorator\n",
    "def add(x,y):\n",
    "    return x+y\n",
    "print 'after decorating'\n",
    "print add(10,12)"
   ]
  },
  {
   "cell_type": "markdown",
   "metadata": {},
   "source": [
    "##Decorators with Arguments:\n"
   ]
  }
 ],
 "metadata": {
  "kernelspec": {
   "display_name": "Python 2",
   "language": "python",
   "name": "python2"
  },
  "language_info": {
   "codemirror_mode": {
    "name": "ipython",
    "version": 2
   },
   "file_extension": ".py",
   "mimetype": "text/x-python",
   "name": "python",
   "nbconvert_exporter": "python",
   "pygments_lexer": "ipython2",
   "version": "2.7.6"
  }
 },
 "nbformat": 4,
 "nbformat_minor": 0
}
