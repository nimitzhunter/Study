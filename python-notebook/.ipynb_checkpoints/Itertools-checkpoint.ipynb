{
 "cells": [
  {
   "cell_type": "markdown",
   "metadata": {},
   "source": [
    "#Itertools\n",
    "\n",
    "Exploring the tools in the libray iterbools\n",
    "\n",
    "    1. count(start[,step]): generate an iterator that count indefinitely. \n",
    "    Because count() doesn't terminate on its own, we need a break condition. \n",
    "    "
   ]
  },
  {
   "cell_type": "code",
   "execution_count": 20,
   "metadata": {
    "collapsed": false
   },
   "outputs": [
    {
     "name": "stdout",
     "output_type": "stream",
     "text": [
      "3\n",
      "7\n",
      "11\n"
     ]
    }
   ],
   "source": [
    "import itertools\n",
    "for i in itertools.count(3,4):\n",
    "    print i\n",
    "    if i > 10:break"
   ]
  },
  {
   "cell_type": "markdown",
   "metadata": {},
   "source": [
    "    2. cycle(iterable): return elements from the iterable. cycle() doesn't terminate and will run indefinitely. The method caches elements of the iterable, when the iterable is exhausted, cycle() will repeat the elements"
   ]
  },
  {
   "cell_type": "code",
   "execution_count": 5,
   "metadata": {
    "collapsed": false
   },
   "outputs": [
    {
     "name": "stdout",
     "output_type": "stream",
     "text": [
      "a\n",
      "b\n",
      "c\n",
      "a\n",
      "b\n",
      "c\n",
      "a\n"
     ]
    }
   ],
   "source": [
    "a = ['a','b','c']\n",
    "count = 0\n",
    "for i in itertools.cycle(a):\n",
    "    print i\n",
    "    count +=1\n",
    "    if count > 2*len(a): break"
   ]
  },
  {
   "cell_type": "markdown",
   "metadata": {},
   "source": [
    "    3. repeat(object[,ntimes]): method return the object over and over again indefinitely or as many times as passed into ntimes. "
   ]
  },
  {
   "cell_type": "code",
   "execution_count": 7,
   "metadata": {
    "collapsed": false
   },
   "outputs": [
    {
     "name": "stdout",
     "output_type": "stream",
     "text": [
      "10\n",
      "10\n",
      "10\n"
     ]
    }
   ],
   "source": [
    "# return 10 three times. \n",
    "for i in itertools.repeat(10,3):\n",
    "    print i"
   ]
  },
  {
   "cell_type": "markdown",
   "metadata": {},
   "source": [
    "    4.chain(*iterables): take in a list of iterables, then chain returns the element of each iterable until all the iterables are exhuasted"
   ]
  },
  {
   "cell_type": "code",
   "execution_count": 17,
   "metadata": {
    "collapsed": false
   },
   "outputs": [
    {
     "name": "stdout",
     "output_type": "stream",
     "text": [
      "1\n",
      "2\n",
      "3\n",
      "4\n",
      "5\n",
      "a\n",
      "c\n",
      "d\n",
      "this\n",
      "q\n",
      "w\n",
      "e\n",
      "r\n",
      "t\n",
      "e\n",
      "w\n",
      "r\n"
     ]
    }
   ],
   "source": [
    "for i in itertools.chain([1,2,3,4,5],('a','c','d'),{'this':'that'},'qwertewr'):\n",
    "    print i"
   ]
  },
  {
   "cell_type": "markdown",
   "metadata": {},
   "source": [
    "    5. compress(data,selector):filter element in data that is evaluated to the corresponding element in selector. The iterator is terminated when either data or selector is exhausted. \n",
    "    NOTE: data and selector must be iterable. In the example below, the string 'asdfdsf' is iterable: the iterable returns the individual character in the string.  "
   ]
  },
  {
   "cell_type": "code",
   "execution_count": 5,
   "metadata": {
    "collapsed": false
   },
   "outputs": [
    {
     "name": "stdout",
     "output_type": "stream",
     "text": [
      "a\n",
      "s\n",
      "s\n"
     ]
    },
    {
     "data": {
      "text/plain": [
       "['1', '3', '5', '7', '9']"
      ]
     },
     "execution_count": 5,
     "metadata": {},
     "output_type": "execute_result"
    }
   ],
   "source": [
    "from itertools import compress\n",
    "\n",
    "for i in compress('asdfdsf',[True,True,0,False,False,True]):\n",
    "    print i\n",
    "\n",
    "def foo():\n",
    "    # need the while loop here to continue generating True/False ad-infinitum\n",
    "    while True:\n",
    "        yield True\n",
    "        yield False\n",
    "[elem for elem in compress('1234567890',foo())]"
   ]
  },
  {
   "cell_type": "markdown",
   "metadata": {},
   "source": [
    "    6. dropwhile(predicate,iterable): drop all element of iterable such that predicate(elem)==true until the first predicate(elem)==false, then return everything. \n",
    "    \n",
    "    To remember: alternative name: dropwhile_pred_is_true"
   ]
  },
  {
   "cell_type": "code",
   "execution_count": 39,
   "metadata": {
    "collapsed": false
   },
   "outputs": [
    {
     "name": "stdout",
     "output_type": "stream",
     "text": [
      "3\n",
      "4\n",
      "5\n",
      "0\n",
      "-1\n"
     ]
    }
   ],
   "source": [
    "# while 1 & 2 are less than 3, the iterator dropwhile will suppress them. \n",
    "# When number 3 is reached, the foo(3)==false, so everything from 3 to -1 is \n",
    "# returned even though 0 & -1 are less than 3 \n",
    "def foo(myint):\n",
    "    return myint<3\n",
    "\n",
    "for i in itertools.dropwhile(lambda x:x<3,[1,2,3,4,5,0,-1]):\n",
    "    print i"
   ]
  },
  {
   "cell_type": "markdown",
   "metadata": {},
   "source": [
    "    7. takewhile(predicate,iterable): for each element in iterable, if predicate(element)==true, return the element. The moment the predicate(element)==false, the iterator is terminated. \n",
    "    To remember: alternative name: take_while_pred_is_true\n",
    "    Note: takewhile and dropwhile are polar-oposite iterators. \n",
    "    Note: for dropwhle and takewhile, alternative way to think about these two iterators. Both iterators wait for a key trigger. When the condition is triggered, either return every thing (dropwhile) or terminate the rest(takewhile)."
   ]
  },
  {
   "cell_type": "code",
   "execution_count": 40,
   "metadata": {
    "collapsed": false
   },
   "outputs": [
    {
     "name": "stdout",
     "output_type": "stream",
     "text": [
      "0\n",
      "1\n",
      "2\n"
     ]
    }
   ],
   "source": [
    "# because 0,1 & 2 are less than 3, the iterator takewhile return them. \n",
    "# When the number 3 is reached, pred(3)==false, the iterator takewhile terminates everything 1 & 2 in the end of \n",
    "# the list is less than 3. \n",
    " \n",
    "for i in itertools.takewhile(lambda x:x<3,[0,1,2,3,1,2,3,1,2]):\n",
    "    print i"
   ]
  },
  {
   "cell_type": "markdown",
   "metadata": {},
   "source": [
    "    8. ifilter(predicte,iterable): return each elem of iterable if pred(elem)==true. If predicate is None, then predicate=bool, and ifilter evaluate bool(element). \n",
    "    Note: unlike dropwhile, this iterator doesn't terminate until all the element of the iterable is evaluated.  "
   ]
  },
  {
   "cell_type": "code",
   "execution_count": 42,
   "metadata": {
    "collapsed": false
   },
   "outputs": [
    {
     "name": "stdout",
     "output_type": "stream",
     "text": [
      "4\n",
      "5\n",
      "10\n",
      "9\n",
      "4\n",
      "5\n",
      "11\n"
     ]
    }
   ],
   "source": [
    "for i in itertools.ifilter(lambda x:x>3,[0,1,2,3,4,5,0,1,2,10,9,1,2,3,4,5,11]):\n",
    "    print i"
   ]
  },
  {
   "cell_type": "markdown",
   "metadata": {},
   "source": [
    "    9. ifilterfalse(pred,iterable): return each elem of iterable if pred(elem)==false. If pred is None, then pred=bool and ifilterfalse return elem if bool(elem)==false."
   ]
  },
  {
   "cell_type": "code",
   "execution_count": 44,
   "metadata": {
    "collapsed": false
   },
   "outputs": [
    {
     "name": "stdout",
     "output_type": "stream",
     "text": [
      "1\n",
      "2\n",
      "3\n",
      "4\n",
      "5\n",
      "6\n",
      "7\n",
      "8\n",
      "9\n",
      "10\n"
     ]
    }
   ],
   "source": [
    "for i in itertools.ifilterfalse(lambda x:x>10,range(1,100)):\n",
    "    print i"
   ]
  },
  {
   "cell_type": "markdown",
   "metadata": {
    "collapsed": true
   },
   "source": [
    "    10. groupby(iterable[,key]): the elements in the iterablle are put into a group where key(elem) is the same for all element in the same group. The iterator return a tuple of (groupkey, iterators of the same group)\n",
    "   ***Important: the iterable must be sorted by the same key function. groupby(sorted(iterable,key),key).***\n",
    "    \n",
    "    In the example below, our sortkey function returns the group name that is used as the groupkey. The we use the function mysortkey() to sort our item list. \n",
    "    In the loop 'for groupname, groupitems in gb:'. The groupname is the return value of the function mysortkey(); so our groupname is either 'div3','div2' or 'notdiv'. The second element 'groupitems' is an iterator that lists the group members that belong to the each groupname. "
   ]
  },
  {
   "cell_type": "code",
   "execution_count": 7,
   "metadata": {
    "collapsed": false
   },
   "outputs": [
    {
     "name": "stdout",
     "output_type": "stream",
     "text": [
      "div2 [2, 4, 4, 10, 14]\n",
      "div3 [3, 3, 3, 9, 12]\n",
      "notdiv [1, 1, 5, 5, 11, 13]\n"
     ]
    }
   ],
   "source": [
    "# in this script, we are grouping about numbers by one of of divisible by three, by two or not at all.\n",
    "from itertools import groupby\n",
    "def mysortkey(x):\n",
    "    if x % 3 == 0:\n",
    "        return 'div3'\n",
    "    elif x % 2 == 0:\n",
    "        return 'div2'\n",
    "    else:\n",
    "        return 'notdiv'\n",
    "\n",
    "\n",
    "def groupby_even_odd(items, sortkey):\n",
    "    gb = groupby(sorted(items, key=sortkey), sortkey)\n",
    "    for groupname, groupitems in gb:\n",
    "        grouplist = [i for i in groupitems]\n",
    "        print groupname, grouplist\n",
    "\n",
    "mylist = sorted([1, 3, 4, 5, 3, 2, 1, 3, 4, 5, 9, 10, 11, 12, 13, 14])\n",
    "\n",
    "groupby_even_odd(mylist, mysortkey)\n"
   ]
  },
  {
   "cell_type": "markdown",
   "metadata": {},
   "source": [
    "    11. tee(iterable[,n=2]): the doc describes this as: take an iterator and return n iterators. \n",
    "        In other words, itertools.tee takes the iterable, and returns it n times***. "
   ]
  },
  {
   "cell_type": "code",
   "execution_count": 17,
   "metadata": {
    "collapsed": false
   },
   "outputs": [
    {
     "name": "stdout",
     "output_type": "stream",
     "text": [
      "false\n",
      "(1, 2, 3, 4, 5)\n",
      "false\n",
      "(1, 2, 3, 4, 5)\n",
      "false\n",
      "(1, 2, 3, 4, 5)\n",
      "false\n",
      "(1, 2, 3, 4, 5)\n",
      "false\n",
      "(1, 2, 3, 4, 5)\n"
     ]
    }
   ],
   "source": [
    "# the 'elem' is an iterator; it has the same data as myiterable\n",
    "myiterable = [1,2,3,4,5]\n",
    "for elem in itertools.tee(myiterable,5):\n",
    "    if elem is myiterable:print 'true'\n",
    "    else:print 'false'\n",
    "    print tuple(e for e in elem)"
   ]
  },
  {
   "cell_type": "markdown",
   "metadata": {},
   "source": [
    "    12. imap(func,*iterables): appy function to each element in each iterable of *iterables. If func is None, func=tuple(). Terminate when the shortest iterable is exhausted. \n",
    "    imap(func,iter_1,iter_2,...inter_n) = \n",
    "      iter(func(iter_1[0],iter_2[0]),...,inter_n[0]) , func(iter_1[1],iter_2[1],...,iter_n[1])...)\n",
    "    \n",
    "    Unlike map(), imap terminates when the shortest iterable is exhausted instead of returning None. \n",
    "    \n",
    "    imap(func,*iterables) is equilvalent to this list comprehension\n",
    "    [func(x1,x2,...xn) for x1,x2,...xn in zip(iter_1,iter_2,...,iter_n)]"
   ]
  },
  {
   "cell_type": "code",
   "execution_count": 51,
   "metadata": {
    "collapsed": false
   },
   "outputs": [
    {
     "name": "stdout",
     "output_type": "stream",
     "text": [
      "1->a\n",
      "2->b\n",
      "['1->a', '2->b']\n"
     ]
    }
   ],
   "source": [
    "# our function takes two arguments and return a string by joining the two argument together. \n",
    "# we pass two iterables into imap. Because one of the iterables has len==2, we only see two results. \n",
    "myiter1=[1,2,3]\n",
    "myiter2=['a','b']\n",
    "def myfunc(x,y):\n",
    "    return '->'.join([str(x),y])\n",
    "\n",
    "for elem in itertools.imap(myfunc,[1,2,3],['a','b']):\n",
    "    print elem\n",
    "\n",
    "# this list comprehension is equilvalent to imap\n",
    "print [myfunc(x1,x2) for x1,x2 in zip(myiter1,myiter2)]"
   ]
  },
  {
   "cell_type": "markdown",
   "metadata": {},
   "source": [
    "    13. starmap(func,iterable_of_iterables): for each element in iterable_of_iterables, return func(*element). "
   ]
  },
  {
   "cell_type": "code",
   "execution_count": 44,
   "metadata": {
    "collapsed": false
   },
   "outputs": [
    {
     "name": "stdout",
     "output_type": "stream",
     "text": [
      "[32, 729]\n",
      "[32, 729]\n"
     ]
    }
   ],
   "source": [
    "# we have a list of tuple (2,5) and tuple (3,6)\n",
    "# when starmap is called, we take each elemtn of the tuple \n",
    "myiterables = [(2,5),(3,6)]\n",
    "print list (itertools.starmap(pow,myiterables))\n",
    "\n",
    "# this list comprehension is equilvalent to starmap\n",
    "print [pow(*element) for element in myiterables]"
   ]
  },
  {
   "cell_type": "markdown",
   "metadata": {
    "collapsed": true
   },
   "source": [
    "    14. izip(*iterables): return an iterator instead of a list like zip() does. the itertor aggregate the elements of the iterables. izip terminates when the shortest iterable is exhausted. "
   ]
  },
  {
   "cell_type": "code",
   "execution_count": 4,
   "metadata": {
    "collapsed": false
   },
   "outputs": [
    {
     "name": "stdout",
     "output_type": "stream",
     "text": [
      "('t', 't', 1)\n",
      "('h', 'h', 2)\n",
      "('i', 'a', 3)\n",
      "('s', 't', 4)\n",
      "(' ', ' ', 5)\n",
      "('i', 'i', 6)\n",
      "('s', 's', 7)\n"
     ]
    }
   ],
   "source": [
    "import itertools\n",
    "for i in itertools.izip('this is a string','that is not a string',[1,2,3,4,5,6,7]):\n",
    "    print i"
   ]
  },
  {
   "cell_type": "markdown",
   "metadata": {},
   "source": [
    "    15. izip_longest(*iterables[,fillvalue]): return an iterator that aggregates the elements of *iterables. For shorter iterable in *iterables, the trailing elements are filled with fillvalue argument; if fillvalue is not defined, None is used. Continue until the longest iterable is exhausted."
   ]
  },
  {
   "cell_type": "code",
   "execution_count": 7,
   "metadata": {
    "collapsed": false
   },
   "outputs": [
    {
     "name": "stdout",
     "output_type": "stream",
     "text": [
      "(1, 'z')\n",
      "(2, 's')\n",
      "(3, 'd')\n",
      "(4, 'f')\n",
      "(5, None)\n",
      "('g', 'n')\n",
      "('o', 'o')\n",
      "(' ', 'hehe')\n",
      "('t', 'hehe')\n",
      "('o', 'hehe')\n",
      "(' ', 'hehe')\n",
      "('h', 'hehe')\n",
      "('e', 'hehe')\n",
      "('l', 'hehe')\n",
      "('l', 'hehe')\n"
     ]
    }
   ],
   "source": [
    "for i in itertools.izip_longest([1,2,3,4,5],'zsdf'):\n",
    "    print i\n",
    "    \n",
    "for j in itertools.izip_longest('go to hell','no',fillvalue='hehe'):\n",
    "    print j"
   ]
  },
  {
   "cell_type": "markdown",
   "metadata": {
    "collapsed": true
   },
   "source": [
    "    16. product(*iterables): the same as nexting multiple for loops between each iterable in *iterables. Return tuple"
   ]
  },
  {
   "cell_type": "code",
   "execution_count": 7,
   "metadata": {
    "collapsed": false,
    "scrolled": false
   },
   "outputs": [
    {
     "name": "stdout",
     "output_type": "stream",
     "text": [
      "1) ('9', 1, 'this')\n",
      "2) ('9', 2, 'this')\n",
      "3) ('9', 3, 'this')\n",
      "4) ('9', 1, 'this')\n",
      "5) ('9', 2, 'this')\n",
      "6) ('9', 3, 'this')\n",
      "7) (',', 1, 'this')\n",
      "8) (',', 2, 'this')\n",
      "9) (',', 3, 'this')\n",
      "10) ('1', 1, 'this')\n",
      "11) ('1', 2, 'this')\n",
      "12) ('1', 3, 'this')\n",
      "13) ('1', 1, 'this')\n",
      "14) ('1', 2, 'this')\n",
      "15) ('1', 3, 'this')\n",
      "16) ('1', 1, 'this')\n",
      "17) ('1', 2, 'this')\n",
      "18) ('1', 3, 'this')\n",
      "19) (',', 1, 'this')\n",
      "20) (',', 2, 'this')\n",
      "21) (',', 3, 'this')\n",
      "22) ('9', 1, 'this')\n",
      "23) ('9', 2, 'this')\n",
      "24) ('9', 3, 'this')\n",
      "25) ('0', 1, 'this')\n",
      "26) ('0', 2, 'this')\n",
      "27) ('0', 3, 'this')\n"
     ]
    }
   ],
   "source": [
    "from itertools import product,izip,count\n",
    "myproduct = product('99,111,90',(1,2,3),{'this':'that'})\n",
    "myzip = izip(count(1),myproduct)\n",
    "for pos,elem in myzip:\n",
    "    print '%d) %s'%(pos,elem)"
   ]
  },
  {
   "cell_type": "markdown",
   "metadata": {
    "collapsed": true
   },
   "source": [
    "    17. combinations(iterable,r): return a tuple of length 'r', the tuple contains elements from iterable\n",
    "  * return according to the lexicographical sort order. The argument 'r' is NOT optional\n",
    "  * only return unique combinations where order matters. If ordering doesn't matter, use permutations()"
   ]
  },
  {
   "cell_type": "code",
   "execution_count": 8,
   "metadata": {
    "collapsed": false
   },
   "outputs": [
    {
     "name": "stdout",
     "output_type": "stream",
     "text": [
      "('a', 'b')\n",
      "('a', 'c')\n",
      "('a', 'd')\n",
      "('b', 'c')\n",
      "('b', 'd')\n",
      "('c', 'd')\n",
      "\n",
      "('a', 'b')\n",
      "('a', 'c')\n",
      "('a', 'd')\n",
      "('b', 'a')\n",
      "('b', 'c')\n",
      "('b', 'd')\n",
      "('c', 'a')\n",
      "('c', 'b')\n",
      "('c', 'd')\n",
      "('d', 'a')\n",
      "('d', 'b')\n",
      "('d', 'c')\n"
     ]
    }
   ],
   "source": [
    "from itertools import combinations,permutations\n",
    "a = [1,2,3,4,5]\n",
    "for elem in combinations('abcd',2):\n",
    "    print elem\n",
    "print ''\n",
    "for elem in permutations('abcd',2):\n",
    "    print elem"
   ]
  }
 ],
 "metadata": {
  "kernelspec": {
   "display_name": "Python 2",
   "language": "python",
   "name": "python2"
  },
  "language_info": {
   "codemirror_mode": {
    "name": "ipython",
    "version": 2
   },
   "file_extension": ".py",
   "mimetype": "text/x-python",
   "name": "python",
   "nbconvert_exporter": "python",
   "pygments_lexer": "ipython2",
   "version": "2.7.6"
  }
 },
 "nbformat": 4,
 "nbformat_minor": 0
}
