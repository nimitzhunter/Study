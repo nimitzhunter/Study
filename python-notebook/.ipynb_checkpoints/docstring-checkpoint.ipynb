{
 "cells": [
  {
   "cell_type": "markdown",
   "metadata": {},
   "source": [
    "#Docstring\n",
    "\n",
    "Docstring is the attribute \\_\\_doc\\_\\_.\n",
    "\n",
    "it can be created by the triple single quotes in the mod\n"
   ]
  },
  {
   "cell_type": "code",
   "execution_count": 2,
   "metadata": {
    "collapsed": false
   },
   "outputs": [
    {
     "name": "stdout",
     "output_type": "stream",
     "text": [
      "this is a docstrong\n"
     ]
    }
   ],
   "source": [
    "def myfunc():\n",
    "    '''this is a docstring'''\n",
    "    pass\n",
    "print myfunc.__doc__"
   ]
  }
 ],
 "metadata": {
  "kernelspec": {
   "display_name": "Python 2",
   "language": "python",
   "name": "python2"
  },
  "language_info": {
   "codemirror_mode": {
    "name": "ipython",
    "version": 2
   },
   "file_extension": ".py",
   "mimetype": "text/x-python",
   "name": "python",
   "nbconvert_exporter": "python",
   "pygments_lexer": "ipython2",
   "version": "2.7.6"
  }
 },
 "nbformat": 4,
 "nbformat_minor": 0
}
