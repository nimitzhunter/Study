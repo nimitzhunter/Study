{
 "cells": [
  {
   "cell_type": "markdown",
   "metadata": {},
   "source": [
    "#How Python Super() function call works in multiple inheritance.\n",
    "\n",
    "Each python class contains the default attribute Method Resolution Order __mro__</p>\n",
    "\n",
    "In the example below foo_class inherits 'object', the __mro__ tree list foo_class first as the child class and 'object' as the parent class.\n"
   ]
  },
  {
   "cell_type": "code",
   "execution_count": 1,
   "metadata": {
    "collapsed": false,
    "scrolled": true
   },
   "outputs": [
    {
     "name": "stdout",
     "output_type": "stream",
     "text": [
      "<class '__main__.foo_class'>\n",
      "<type 'object'>\n"
     ]
    }
   ],
   "source": [
    "class foo_class(object):\n",
    "    pass\n",
    "for mro in foo_class.__mro__:\n",
    "    print mro"
   ]
  },
  {
   "cell_type": "markdown",
   "metadata": {},
   "source": [
    "In case that we have an hierarchy of inhertance.\n",
    "<p>\n",
    "For example A<-B<-C\n",
    "\n",
    "A is the root class, B inherits from A, and C inherit from B.</p>\n",
    "\n",
    "\n"
   ]
  },
  {
   "cell_type": "code",
   "execution_count": 5,
   "metadata": {
    "collapsed": false
   },
   "outputs": [
    {
     "name": "stdout",
     "output_type": "stream",
     "text": [
      "<class '__main__.C'>\n",
      "<class '__main__.B'>\n",
      "<class '__main__.A'>\n",
      "<type 'object'>\n"
     ]
    }
   ],
   "source": [
    "class A(object):\n",
    "    pass\n",
    "class B(A):\n",
    "    pass\n",
    "class C(B):\n",
    "    pass\n",
    "for mro in C.__mro__:\n",
    "    print mro"
   ]
  },
  {
   "cell_type": "markdown",
   "metadata": {},
   "source": [
    "We are going to extend the example above by adding in the __init__ method with super() call to __init__\n",
    "\n",
    "Super(class,self).__init__() will call the parent's __init__() method. The super() call follow the __mro__ hiarchy. "
   ]
  },
  {
   "cell_type": "code",
   "execution_count": 8,
   "metadata": {
    "collapsed": false
   },
   "outputs": [
    {
     "name": "stdout",
     "output_type": "stream",
     "text": [
      "in C init\n",
      "in B init\n",
      "in A init\n"
     ]
    }
   ],
   "source": [
    "class A(object):\n",
    "    def __init__(self):\n",
    "        print 'in A init'\n",
    "class B(A):\n",
    "    def __init__(self):\n",
    "        print 'in B init'\n",
    "        super(B,self).__init__()\n",
    "class C(B):\n",
    "    def __init__(self):\n",
    "        print 'in C init'\n",
    "        super(C,self).__init__()\n",
    "\n",
    "my_C_class = C()"
   ]
  },
  {
   "cell_type": "markdown",
   "metadata": {},
   "source": [
    "In case of multiple inheritance, the __mro__ algorithm employes 'depth first and left to right search' logics to resolve the order of inheritance.\n",
    "\n",
    "In the example below, multiple_inherit inherits from both First_class and Second_class. Because First_class is first on the list of inheritance, First_class will be traversed first with the super() call. "
   ]
  },
  {
   "cell_type": "code",
   "execution_count": 16,
   "metadata": {
    "collapsed": false
   },
   "outputs": [
    {
     "name": "stdout",
     "output_type": "stream",
     "text": [
      "<class '__main__.multiple_inherit'>\n",
      "<class '__main__.First_class'>\n",
      "<class '__main__.Second_class'>\n",
      "<type 'object'>\n"
     ]
    }
   ],
   "source": [
    "class First_class(object):\n",
    "    pass\n",
    "class Second_class(object):\n",
    "    pass\n",
    "class multiple_inherit(First_class,Second_class):\n",
    "    pass\n",
    "for mro in multiple_inherit.__mro__:\n",
    "    print mro"
   ]
  },
  {
   "cell_type": "markdown",
   "metadata": {},
   "source": [
    "Expanding from previous example, instead of inheriting object, our First_class will inherit from another class First_class_parent. \n",
    "\n",
    "Looking at the attr __mro__, notice that the order of inheritence resolution traverse the First_class to First_class_parent before visiting the Second_class. "
   ]
  },
  {
   "cell_type": "code",
   "execution_count": 17,
   "metadata": {
    "collapsed": false
   },
   "outputs": [
    {
     "name": "stdout",
     "output_type": "stream",
     "text": [
      "<class '__main__.multiple_inherit'>\n",
      "<class '__main__.First_class'>\n",
      "<class '__main__.First_class_parent'>\n",
      "<class '__main__.Second_class'>\n",
      "<type 'object'>\n"
     ]
    }
   ],
   "source": [
    "class First_class_parent(object):\n",
    "    pass\n",
    "class First_class(First_class_parent):\n",
    "    pass\n",
    "class Second_class(object):\n",
    "    pass\n",
    "class multiple_inherit(First_class,Second_class):\n",
    "    pass\n",
    "for mro in multiple_inherit.__mro__:\n",
    "    print mro"
   ]
  },
  {
   "cell_type": "markdown",
   "metadata": {},
   "source": [
    "super() call follows the __mro__ hierarchy to resolve the __init__() call. "
   ]
  },
  {
   "cell_type": "code",
   "execution_count": 21,
   "metadata": {
    "collapsed": false
   },
   "outputs": [
    {
     "name": "stdout",
     "output_type": "stream",
     "text": [
      "in multiple inherit\n",
      "in first class\n",
      "in first class parent\n",
      "in second class\n"
     ]
    }
   ],
   "source": [
    "class First_class_parent(object):\n",
    "    def __init__(self):\n",
    "        print 'in first class parent'\n",
    "        super(First_class_parent,self).__init__()\n",
    "        \n",
    "class First_class(First_class_parent):\n",
    "    def __init__(self):\n",
    "        print 'in first class'\n",
    "        super(First_class,self).__init__()\n",
    "        \n",
    "class Second_class(object):\n",
    "    def __init__(self):\n",
    "        print 'in second class'\n",
    "        super(Second_class,self).__init__()\n",
    "\n",
    "        \n",
    "class multiple_inherit(First_class,Second_class):\n",
    "    def __init__(self):\n",
    "        print 'in multiple inherit'\n",
    "        super(multiple_inherit,self).__init__()\n",
    "\n",
    "myclass = multiple_inherit()"
   ]
  },
  {
   "cell_type": "markdown",
   "metadata": {},
   "source": [
    "Let's move on to a more complex inheritence.\n",
    "\n",
    "A1->B1\n",
    "A1->C1\n",
    "B1,C1->D1\n",
    "\n",
    "D1 class inherits from B1 and C1, each of which inherits from A1. This is a classic example of a diamond scheme. \n",
    "\n",
    "A2->b2\n",
    "A2->C2\n",
    "B2,C2->D2\n",
    "D2 also inherits from a diamond scheme. \n",
    "\n",
    "D1,D2->myclass\n",
    "\n",
    "myclass inherits from both D1 and D2. Notice that myclass inherits from D1 first. Thus myclass.__mro__ will traverse the D1's hiarchy first before it traversing the D2 hiarchy. In other word, a super() call will visit all the method in D1->C1->B1->A1. Because, C1 appears first on the inheritance list of D1, C1 will be evaluated before B1. However, B2 appears first in the inheritance list of D2, therefore B2 will be evaluated before C2.\n"
   ]
  },
  {
   "cell_type": "code",
   "execution_count": 23,
   "metadata": {
    "collapsed": false
   },
   "outputs": [
    {
     "name": "stdout",
     "output_type": "stream",
     "text": [
      "<class '__main__.myclass'>\n",
      "<class '__main__.D1'>\n",
      "<class '__main__.C1'>\n",
      "<class '__main__.B1'>\n",
      "<class '__main__.A1'>\n",
      "<class '__main__.D2'>\n",
      "<class '__main__.B2'>\n",
      "<class '__main__.C2'>\n",
      "<class '__main__.A2'>\n",
      "<type 'object'>\n"
     ]
    }
   ],
   "source": [
    "class A1(object):\n",
    "    pass\n",
    "\n",
    "\n",
    "class B1(A1):\n",
    "    pass\n",
    "\n",
    "\n",
    "class C1(A1):\n",
    "    pass\n",
    "\n",
    "\n",
    "class D1(C1, B1):\n",
    "    pass\n",
    "\n",
    "\n",
    "class A2(object):\n",
    "    pass\n",
    "\n",
    "\n",
    "class B2(A2):\n",
    "    pass\n",
    "\n",
    "\n",
    "class C2(A2):\n",
    "    pass\n",
    "\n",
    "\n",
    "class D2(B2, C2):\n",
    "    pass\n",
    "\n",
    "\n",
    "class myclass(D1, D2):\n",
    "    pass\n",
    "\n",
    "for mro in myclass.__mro__:\n",
    "    print (mro)\n"
   ]
  },
  {
   "cell_type": "markdown",
   "metadata": {},
   "source": [
    "In the example below, B1 calls super().__init__() method thus C1's __init__ is called which also calls super to pass to A1. "
   ]
  },
  {
   "cell_type": "code",
   "execution_count": 25,
   "metadata": {
    "collapsed": false
   },
   "outputs": [
    {
     "name": "stdout",
     "output_type": "stream",
     "text": [
      "in myclass\n",
      "in B1\n",
      "in C1\n",
      "in A1\n"
     ]
    }
   ],
   "source": [
    "class A1(object):\n",
    "\n",
    "    def __init__(self):\n",
    "        print 'in A1'\n",
    "        super(A1, self).__init__()\n",
    "\n",
    "\n",
    "class B1(A1):\n",
    "\n",
    "    def __init__(self):\n",
    "        print 'in B1'\n",
    "        super(B1,self).__init__()\n",
    "\n",
    "\n",
    "class C1(A1):\n",
    "\n",
    "    def __init__(self):\n",
    "        print 'in C1'\n",
    "        super(C1, self).__init__()\n",
    "\n",
    "\n",
    "class D1(B1, C1):\n",
    "    pass\n",
    "\n",
    "\n",
    "class myclass(D1):\n",
    "\n",
    "    def __init__(self):\n",
    "        print 'in myclass'\n",
    "        super(myclass, self).__init__()\n",
    "\n",
    "aclass = myclass()\n"
   ]
  },
  {
   "cell_type": "markdown",
   "metadata": {},
   "source": [
    "What happens if myclass inherits from D1,D2 and B1 by accident? \n",
    "\n",
    "Normally, the entire brach of D1->A1 will be traverse first. However, in this case, B1 can't not be visited before D2; thus, after visiting D1, the __mro__ will visit D2, then reverse back to visit B1 before proceeding to travesre the entire tree of D1. After A1 is reached, B2 will be traversed next because D2 is already visited after visiting D1. \n",
    "\n"
   ]
  },
  {
   "cell_type": "code",
   "execution_count": 27,
   "metadata": {
    "collapsed": false
   },
   "outputs": [
    {
     "name": "stdout",
     "output_type": "stream",
     "text": [
      "<class '__main__.myclass'>\n",
      "<class '__main__.D1'>\n",
      "<class '__main__.D2'>\n",
      "<class '__main__.B1'>\n",
      "<class '__main__.C1'>\n",
      "<class '__main__.A1'>\n",
      "<class '__main__.B2'>\n",
      "<class '__main__.C2'>\n",
      "<class '__main__.A2'>\n",
      "<type 'object'>\n"
     ]
    }
   ],
   "source": [
    "class A1(object):\n",
    "    pass\n",
    "\n",
    "class B1(A1):\n",
    "    pass\n",
    "\n",
    "\n",
    "class C1(A1):\n",
    "    pass\n",
    "\n",
    "class D1(B1, C1):\n",
    "    pass\n",
    "\n",
    "\n",
    "class A2(object):\n",
    "    pass\n",
    "\n",
    "\n",
    "class B2(A2):\n",
    "    pass\n",
    "\n",
    "\n",
    "class C2(A2):\n",
    "    pass\n",
    "\n",
    "\n",
    "class D2(B2, C2):\n",
    "    pass\n",
    "\n",
    "\n",
    "class myclass(D1, D2, B1):\n",
    "    pass\n",
    "\n",
    "for mro in myclass.__mro__:\n",
    "    print mro\n"
   ]
  },
  {
   "cell_type": "markdown",
   "metadata": {},
   "source": [
    "There is a problem however if we put one inherit a node out of turn: myclass(D1,B2,D2)."
   ]
  },
  {
   "cell_type": "code",
   "execution_count": 28,
   "metadata": {
    "collapsed": false
   },
   "outputs": [
    {
     "ename": "TypeError",
     "evalue": "Error when calling the metaclass bases\n    Cannot create a consistent method resolution\norder (MRO) for bases D2, object, B2",
     "output_type": "error",
     "traceback": [
      "\u001b[0;31m---------------------------------------------------------------------------\u001b[0m",
      "\u001b[0;31mTypeError\u001b[0m                                 Traceback (most recent call last)",
      "\u001b[0;32m<ipython-input-28-52a82d934880>\u001b[0m in \u001b[0;36m<module>\u001b[0;34m()\u001b[0m\n\u001b[1;32m     39\u001b[0m \u001b[0;34m\u001b[0m\u001b[0m\n\u001b[1;32m     40\u001b[0m \u001b[0;34m\u001b[0m\u001b[0m\n\u001b[0;32m---> 41\u001b[0;31m \u001b[0;32mclass\u001b[0m \u001b[0mmyclass\u001b[0m\u001b[0;34m(\u001b[0m\u001b[0mD1\u001b[0m\u001b[0;34m,\u001b[0m \u001b[0mB2\u001b[0m\u001b[0;34m,\u001b[0m \u001b[0mD2\u001b[0m\u001b[0;34m)\u001b[0m\u001b[0;34m:\u001b[0m\u001b[0;34m\u001b[0m\u001b[0m\n\u001b[0m\u001b[1;32m     42\u001b[0m     \u001b[0;32mpass\u001b[0m\u001b[0;34m\u001b[0m\u001b[0m\n\u001b[1;32m     43\u001b[0m \u001b[0;34m\u001b[0m\u001b[0m\n",
      "\u001b[0;31mTypeError\u001b[0m: Error when calling the metaclass bases\n    Cannot create a consistent method resolution\norder (MRO) for bases D2, object, B2"
     ]
    }
   ],
   "source": [
    "class A1(object):\n",
    "\n",
    "    def __init__(self):\n",
    "        print 'in A1'\n",
    "        super(A1, self).__init__()\n",
    "\n",
    "\n",
    "class B1(A1):\n",
    "\n",
    "    def __init__(self):\n",
    "        print 'in B1'\n",
    "\n",
    "\n",
    "class C1(A1):\n",
    "\n",
    "    def __init__(self):\n",
    "        print 'in C1'\n",
    "        super(C1, self).__init__()\n",
    "\n",
    "\n",
    "class D1(B1, C1):\n",
    "    pass\n",
    "\n",
    "\n",
    "class A2(object):\n",
    "    pass\n",
    "\n",
    "\n",
    "class B2(A2):\n",
    "    pass\n",
    "\n",
    "\n",
    "class C2(A2):\n",
    "    pass\n",
    "\n",
    "\n",
    "class D2(B2, C2):\n",
    "    pass\n",
    "\n",
    "\n",
    "class myclass(D1, B2, D2):\n",
    "    pass\n",
    "\n",
    "for mro in myclass.__mro__:\n",
    "    print mro\n"
   ]
  },
  {
   "cell_type": "markdown",
   "metadata": {
    "collapsed": true
   },
   "source": [
    "super() delegates method call to the class hierarchy. In order to be able to reorder the inheritance tree, the inheritence must follow these points:\n",
    "\n",
    "1. The method must exist\n",
    "2. Caller and callee must have same argument signature\n",
    "3. Every occurence of the method needs to call super()\n",
    "\n",
    "First looking at the issue of argument signature. The caller may not know the argument signature of the method when calling super because the subclass may inherit other classes in the __MRO__. \n",
    "\n",
    "The example below illustrates this issue. The class 'myclass' inherit from both first and second classes. Both 'first' and 'second' classes implment the method do_something, but 'second' requires two arguments. "
   ]
  },
  {
   "cell_type": "code",
   "execution_count": 7,
   "metadata": {
    "collapsed": false
   },
   "outputs": [
    {
     "ename": "TypeError",
     "evalue": "do_something() takes exactly 2 arguments (1 given)",
     "output_type": "error",
     "traceback": [
      "\u001b[0;31m---------------------------------------------------------------------------\u001b[0m",
      "\u001b[0;31mTypeError\u001b[0m                                 Traceback (most recent call last)",
      "\u001b[0;32m<ipython-input-7-53e508d6d6b3>\u001b[0m in \u001b[0;36m<module>\u001b[0;34m()\u001b[0m\n\u001b[1;32m     10\u001b[0m         \u001b[0msuper\u001b[0m\u001b[0;34m(\u001b[0m\u001b[0mmyclass\u001b[0m\u001b[0;34m,\u001b[0m\u001b[0mself\u001b[0m\u001b[0;34m)\u001b[0m\u001b[0;34m.\u001b[0m\u001b[0mdo_something\u001b[0m\u001b[0;34m(\u001b[0m\u001b[0;34m)\u001b[0m\u001b[0;34m\u001b[0m\u001b[0m\n\u001b[1;32m     11\u001b[0m \u001b[0ma\u001b[0m \u001b[0;34m=\u001b[0m \u001b[0mmyclass\u001b[0m\u001b[0;34m(\u001b[0m\u001b[0;34m)\u001b[0m\u001b[0;34m\u001b[0m\u001b[0m\n\u001b[0;32m---> 12\u001b[0;31m \u001b[0ma\u001b[0m\u001b[0;34m.\u001b[0m\u001b[0mdo_something\u001b[0m\u001b[0;34m(\u001b[0m\u001b[0;34m)\u001b[0m\u001b[0;34m\u001b[0m\u001b[0m\n\u001b[0m",
      "\u001b[0;32m<ipython-input-7-53e508d6d6b3>\u001b[0m in \u001b[0;36mdo_something\u001b[0;34m(self)\u001b[0m\n\u001b[1;32m      8\u001b[0m \u001b[0;32mclass\u001b[0m \u001b[0mmyclass\u001b[0m\u001b[0;34m(\u001b[0m\u001b[0mfirst\u001b[0m\u001b[0;34m,\u001b[0m\u001b[0msecond\u001b[0m\u001b[0;34m)\u001b[0m\u001b[0;34m:\u001b[0m\u001b[0;34m\u001b[0m\u001b[0m\n\u001b[1;32m      9\u001b[0m     \u001b[0;32mdef\u001b[0m \u001b[0mdo_something\u001b[0m\u001b[0;34m(\u001b[0m\u001b[0mself\u001b[0m\u001b[0;34m)\u001b[0m\u001b[0;34m:\u001b[0m\u001b[0;34m\u001b[0m\u001b[0m\n\u001b[0;32m---> 10\u001b[0;31m         \u001b[0msuper\u001b[0m\u001b[0;34m(\u001b[0m\u001b[0mmyclass\u001b[0m\u001b[0;34m,\u001b[0m\u001b[0mself\u001b[0m\u001b[0;34m)\u001b[0m\u001b[0;34m.\u001b[0m\u001b[0mdo_something\u001b[0m\u001b[0;34m(\u001b[0m\u001b[0;34m)\u001b[0m\u001b[0;34m\u001b[0m\u001b[0m\n\u001b[0m\u001b[1;32m     11\u001b[0m \u001b[0ma\u001b[0m \u001b[0;34m=\u001b[0m \u001b[0mmyclass\u001b[0m\u001b[0;34m(\u001b[0m\u001b[0;34m)\u001b[0m\u001b[0;34m\u001b[0m\u001b[0m\n\u001b[1;32m     12\u001b[0m \u001b[0ma\u001b[0m\u001b[0;34m.\u001b[0m\u001b[0mdo_something\u001b[0m\u001b[0;34m(\u001b[0m\u001b[0;34m)\u001b[0m\u001b[0;34m\u001b[0m\u001b[0m\n",
      "\u001b[0;32m<ipython-input-7-53e508d6d6b3>\u001b[0m in \u001b[0;36mdo_something\u001b[0;34m(self)\u001b[0m\n\u001b[1;32m      1\u001b[0m \u001b[0;32mclass\u001b[0m \u001b[0mfirst\u001b[0m\u001b[0;34m(\u001b[0m\u001b[0mobject\u001b[0m\u001b[0;34m)\u001b[0m\u001b[0;34m:\u001b[0m\u001b[0;34m\u001b[0m\u001b[0m\n\u001b[1;32m      2\u001b[0m     \u001b[0;32mdef\u001b[0m \u001b[0mdo_something\u001b[0m\u001b[0;34m(\u001b[0m\u001b[0mself\u001b[0m\u001b[0;34m)\u001b[0m\u001b[0;34m:\u001b[0m\u001b[0;34m\u001b[0m\u001b[0m\n\u001b[0;32m----> 3\u001b[0;31m         \u001b[0msuper\u001b[0m\u001b[0;34m(\u001b[0m\u001b[0mfirst\u001b[0m\u001b[0;34m,\u001b[0m\u001b[0mself\u001b[0m\u001b[0;34m)\u001b[0m\u001b[0;34m.\u001b[0m\u001b[0mdo_something\u001b[0m\u001b[0;34m(\u001b[0m\u001b[0;34m)\u001b[0m\u001b[0;34m\u001b[0m\u001b[0m\n\u001b[0m\u001b[1;32m      4\u001b[0m \u001b[0;32mclass\u001b[0m \u001b[0msecond\u001b[0m\u001b[0;34m(\u001b[0m\u001b[0mobject\u001b[0m\u001b[0;34m)\u001b[0m\u001b[0;34m:\u001b[0m\u001b[0;34m\u001b[0m\u001b[0m\n\u001b[1;32m      5\u001b[0m     \u001b[0;32mdef\u001b[0m \u001b[0mdo_something\u001b[0m\u001b[0;34m(\u001b[0m\u001b[0mself\u001b[0m\u001b[0;34m,\u001b[0m\u001b[0ma\u001b[0m\u001b[0;34m)\u001b[0m\u001b[0;34m:\u001b[0m\u001b[0;34m\u001b[0m\u001b[0m\n",
      "\u001b[0;31mTypeError\u001b[0m: do_something() takes exactly 2 arguments (1 given)"
     ]
    }
   ],
   "source": [
    "class first(object):\n",
    "    def do_something(self):\n",
    "        super(first,self).do_something()\n",
    "        \n",
    "class second(object):\n",
    "    def do_something(self,a):\n",
    "        pass\n",
    "    \n",
    "class myclass(first,second):\n",
    "    def do_something(self):\n",
    "        super(myclass,self).do_something()\n",
    "a = myclass()\n",
    "a.do_something()"
   ]
  },
  {
   "cell_type": "markdown",
   "metadata": {},
   "source": [
    "The solution for this problem is to implement all the method in the inheritance tree to take in the dictionary \\*\\*kwargs. Each class method will take what it needs from the dictinoary and pass the rest with the super() call. We do this until we empty the dictionary on the last call to super()\n",
    "\n",
    "Let study the example below. Shape.\\_\\_init\\_\\_ requires the argument shape. ColoredShape required the argument color for itself, and 'shape' to initialize its parent class Shape. When we instantiate our class 'myColoredShape', we pass in the dictionary {color:'blue',shape:'square'}. The constructor of the class ColoredShape extracts the argument (color:'blue') from the dictionary and pass (shapre:'square') via super().\\_\\_init\\_\\_(\\*\\*kwargs) to the parent class. \n",
    "\n",
    "Notice that Shape continues to call super().\\_\\_init\\_\\_ with the dictionary kwargs; this happens because we can design another subclass to inherite from ColoredShape and mydummy. In class Shape, when we call super() we are passing the \\*\\*kwargs to the initalization of the class dummy because dummy is next on the \\_\\_mro\\_\\_ list."
   ]
  },
  {
   "cell_type": "code",
   "execution_count": 31,
   "metadata": {
    "collapsed": false
   },
   "outputs": [
    {
     "name": "stdout",
     "output_type": "stream",
     "text": [
      "set color blue\n",
      "set shape square\n",
      "<__main__.ColoredShape object at 0x102c5d190>\n",
      "set color red\n",
      "set shape round\n",
      "set my dummy you're a dummy\n",
      "<class '__main__.sample_class'>\n",
      "<class '__main__.ColoredShape'>\n",
      "<class '__main__.Shape'>\n",
      "<class '__main__.dummy'>\n",
      "<type 'object'>\n"
     ]
    }
   ],
   "source": [
    "class Shape(object):\n",
    "    def __init__(self,shape,**kwargs):\n",
    "        self.shape = shape\n",
    "        print 'set shape '+shape\n",
    "        super(Shape,self).__init__(**kwargs)\n",
    "        \n",
    "class ColoredShape(Shape):\n",
    "    def __init__(self,color,**kwargs):\n",
    "        self.color = color\n",
    "        print 'set color '+color\n",
    "        super(ColoredShape,self).__init__(**kwargs)\n",
    "        \n",
    "myColoredShape = ColoredShape(color='blue',shape='square')\n",
    "print myColoredShape\n",
    "\n",
    "# this class inherit from both Shape and collections.Counter\n",
    "class dummy(object):\n",
    "    def __init__(self,mydummy,**kwargs):\n",
    "        print 'set my dummy '+mydummy\n",
    "        super(dummy,self).__init__(**kwargs)\n",
    "\n",
    "class sample_class(ColoredShape,dummy):\n",
    "    def __init__(self,**kwargs):\n",
    "        super(sample_class,self).__init__(**kwargs)\n",
    "        \n",
    "mysampleclass = sample_class(shape='round',color='red',mydummy=\"you're a dummy\")\n",
    "for mro in sample_class.__mro__:\n",
    "    print mro"
   ]
  },
  {
   "cell_type": "markdown",
   "metadata": {},
   "source": [
    "The example above works well until you realize that too many argumets are being pass into super(). \n",
    "\n",
    "Let's take a look at the example below. The class sample_clas inherits from the dummy class; and the dummy class inherit from the object class which doesn't take any argument for the \\_\\_init\\_\\_ method. When we initiates the class sample_class with mydummy argument, the dummy call will extract it and pass an empty dictionary \\*\\*kwargs to object.\\_\\_init\\_\\_ and everything is fine and happy. \n",
    "\n",
    "However, if we pass a longer dictionary, we'll run into an TypeError exception because we are trying to pass an extra argument to object.\\_\\_init\\_\\_ which doesn't take any argument. We can't take out the super() call in our dummy class because of our rule 3 above 'Every occurence of the method needs to call super()' because there may be another class that inherit multiple classes. We are going to look at the solution of this problem below."
   ]
  },
  {
   "cell_type": "code",
   "execution_count": 35,
   "metadata": {
    "collapsed": false
   },
   "outputs": [
    {
     "name": "stdout",
     "output_type": "stream",
     "text": [
      "set my dummy you're a dummy\n"
     ]
    },
    {
     "ename": "TypeError",
     "evalue": "object.__init__() takes no parameters",
     "output_type": "error",
     "traceback": [
      "\u001b[0;31m---------------------------------------------------------------------------\u001b[0m",
      "\u001b[0;31mTypeError\u001b[0m                                 Traceback (most recent call last)",
      "\u001b[0;32m<ipython-input-35-d4fe6be83bb2>\u001b[0m in \u001b[0;36m<module>\u001b[0;34m()\u001b[0m\n\u001b[1;32m      9\u001b[0m         \u001b[0msuper\u001b[0m\u001b[0;34m(\u001b[0m\u001b[0msample_class\u001b[0m\u001b[0;34m,\u001b[0m\u001b[0mself\u001b[0m\u001b[0;34m)\u001b[0m\u001b[0;34m.\u001b[0m\u001b[0m__init__\u001b[0m\u001b[0;34m(\u001b[0m\u001b[0;34m**\u001b[0m\u001b[0mkwargs\u001b[0m\u001b[0;34m)\u001b[0m\u001b[0;34m\u001b[0m\u001b[0m\n\u001b[1;32m     10\u001b[0m \u001b[0;34m\u001b[0m\u001b[0m\n\u001b[0;32m---> 11\u001b[0;31m \u001b[0mmysampleclass\u001b[0m \u001b[0;34m=\u001b[0m \u001b[0msample_class\u001b[0m\u001b[0;34m(\u001b[0m\u001b[0mmydummy\u001b[0m\u001b[0;34m=\u001b[0m\u001b[0;34m\"you're a dummy\"\u001b[0m\u001b[0;34m,\u001b[0m\u001b[0mcolor\u001b[0m\u001b[0;34m=\u001b[0m\u001b[0;34m'should not be passed here'\u001b[0m\u001b[0;34m)\u001b[0m\u001b[0;34m\u001b[0m\u001b[0m\n\u001b[0m",
      "\u001b[0;32m<ipython-input-35-d4fe6be83bb2>\u001b[0m in \u001b[0;36m__init__\u001b[0;34m(self, **kwargs)\u001b[0m\n\u001b[1;32m      7\u001b[0m \u001b[0;32mclass\u001b[0m \u001b[0msample_class\u001b[0m\u001b[0;34m(\u001b[0m\u001b[0mdummy\u001b[0m\u001b[0;34m)\u001b[0m\u001b[0;34m:\u001b[0m\u001b[0;34m\u001b[0m\u001b[0m\n\u001b[1;32m      8\u001b[0m     \u001b[0;32mdef\u001b[0m \u001b[0m__init__\u001b[0m\u001b[0;34m(\u001b[0m\u001b[0mself\u001b[0m\u001b[0;34m,\u001b[0m\u001b[0;34m**\u001b[0m\u001b[0mkwargs\u001b[0m\u001b[0;34m)\u001b[0m\u001b[0;34m:\u001b[0m\u001b[0;34m\u001b[0m\u001b[0m\n\u001b[0;32m----> 9\u001b[0;31m         \u001b[0msuper\u001b[0m\u001b[0;34m(\u001b[0m\u001b[0msample_class\u001b[0m\u001b[0;34m,\u001b[0m\u001b[0mself\u001b[0m\u001b[0;34m)\u001b[0m\u001b[0;34m.\u001b[0m\u001b[0m__init__\u001b[0m\u001b[0;34m(\u001b[0m\u001b[0;34m**\u001b[0m\u001b[0mkwargs\u001b[0m\u001b[0;34m)\u001b[0m\u001b[0;34m\u001b[0m\u001b[0m\n\u001b[0m\u001b[1;32m     10\u001b[0m \u001b[0;34m\u001b[0m\u001b[0m\n\u001b[1;32m     11\u001b[0m \u001b[0mmysampleclass\u001b[0m \u001b[0;34m=\u001b[0m \u001b[0msample_class\u001b[0m\u001b[0;34m(\u001b[0m\u001b[0mmydummy\u001b[0m\u001b[0;34m=\u001b[0m\u001b[0;34m\"you're a dummy\"\u001b[0m\u001b[0;34m,\u001b[0m\u001b[0mcolor\u001b[0m\u001b[0;34m=\u001b[0m\u001b[0;34m'should not be passed here'\u001b[0m\u001b[0;34m)\u001b[0m\u001b[0;34m\u001b[0m\u001b[0m\n",
      "\u001b[0;32m<ipython-input-35-d4fe6be83bb2>\u001b[0m in \u001b[0;36m__init__\u001b[0;34m(self, mydummy, **kwargs)\u001b[0m\n\u001b[1;32m      3\u001b[0m     \u001b[0;32mdef\u001b[0m \u001b[0m__init__\u001b[0m\u001b[0;34m(\u001b[0m\u001b[0mself\u001b[0m\u001b[0;34m,\u001b[0m\u001b[0mmydummy\u001b[0m\u001b[0;34m,\u001b[0m\u001b[0;34m**\u001b[0m\u001b[0mkwargs\u001b[0m\u001b[0;34m)\u001b[0m\u001b[0;34m:\u001b[0m\u001b[0;34m\u001b[0m\u001b[0m\n\u001b[1;32m      4\u001b[0m         \u001b[0;32mprint\u001b[0m \u001b[0;34m'set my dummy '\u001b[0m\u001b[0;34m+\u001b[0m\u001b[0mmydummy\u001b[0m\u001b[0;34m\u001b[0m\u001b[0m\n\u001b[0;32m----> 5\u001b[0;31m         \u001b[0msuper\u001b[0m\u001b[0;34m(\u001b[0m\u001b[0mdummy\u001b[0m\u001b[0;34m,\u001b[0m\u001b[0mself\u001b[0m\u001b[0;34m)\u001b[0m\u001b[0;34m.\u001b[0m\u001b[0m__init__\u001b[0m\u001b[0;34m(\u001b[0m\u001b[0;34m**\u001b[0m\u001b[0mkwargs\u001b[0m\u001b[0;34m)\u001b[0m\u001b[0;34m\u001b[0m\u001b[0m\n\u001b[0m\u001b[1;32m      6\u001b[0m \u001b[0;34m\u001b[0m\u001b[0m\n\u001b[1;32m      7\u001b[0m \u001b[0;32mclass\u001b[0m \u001b[0msample_class\u001b[0m\u001b[0;34m(\u001b[0m\u001b[0mdummy\u001b[0m\u001b[0;34m)\u001b[0m\u001b[0;34m:\u001b[0m\u001b[0;34m\u001b[0m\u001b[0m\n",
      "\u001b[0;31mTypeError\u001b[0m: object.__init__() takes no parameters"
     ]
    }
   ],
   "source": [
    "# this class inherit from both Shape and collections.Counter\n",
    "class dummy(object):\n",
    "    def __init__(self,mydummy,**kwargs):\n",
    "        print 'set my dummy '+mydummy\n",
    "        super(dummy,self).__init__(**kwargs)\n",
    "        \n",
    "class sample_class(dummy):\n",
    "    def __init__(self,**kwargs):\n",
    "        super(sample_class,self).__init__(**kwargs)\n",
    "        \n",
    "mysampleclass = sample_class(mydummy=\"you're a dummy\",color='should not be passed here')\n"
   ]
  },
  {
   "cell_type": "markdown",
   "metadata": {},
   "source": [
    "We ran into a problem above. We can't remove the super() call or modify the dictionary because other subclass in an multiple inheritance scheme may need the super() call. The resolution for this is to have a root class, something similar to the object class but this root class can accept an dictionary \\*\\*kwargs. The logics of this implementation is to have an abstract layer before we call object.\\_\\_init\\_\\_ and be flexible enough in case we need to inherit more classes that has the same method  "
   ]
  },
  {
   "cell_type": "code",
   "execution_count": 1,
   "metadata": {
    "collapsed": true
   },
   "outputs": [],
   "source": [
    "class root(object):\n",
    "    def __init__(self,**kwargs):\n",
    "        super(root,self).__init__()"
   ]
  },
  {
   "cell_type": "markdown",
   "metadata": {},
   "source": [
    "So far, we can resolve our super() call conflict with argument by requiring all classes to inherit from the root class. However, since we don't have control over all class we inherit from (some class may not use super() call or we can't enforce inhertance of root on third party libraries). It is suggested that we use an ***adapter class*** to enforce our scheme. \n",
    "\n",
    "the following example is borrowed from this website: https://rhettinger.wordpress.com/2011/05/26/super-considered-super/\n",
    "\n",
    "The following class is designed such that it:\n",
    "* Doesn't inherit from root\n",
    "* Has a different \\_\\_init\\_\\_ implementation that is different from object \n",
    "* doesn't make any super() call"
   ]
  },
  {
   "cell_type": "code",
   "execution_count": 2,
   "metadata": {
    "collapsed": true
   },
   "outputs": [],
   "source": [
    "class MoveAble:\n",
    "    def __init__(self,x,y):\n",
    "        self.x = x\n",
    "        self.y = y\n"
   ]
  },
  {
   "cell_type": "markdown",
   "metadata": {},
   "source": [
    "Our adapter class has to be :\n",
    "1. Inherit from root\n",
    "2. call super()\n",
    "3. Have an \\_\\_init\\_\\_ method's signature that is compatible with object"
   ]
  },
  {
   "cell_type": "code",
   "execution_count": 6,
   "metadata": {
    "collapsed": false
   },
   "outputs": [],
   "source": [
    "class MoveAbleAdapter(root):\n",
    "    def __init__(self,x,y,**kwargs):\n",
    "        self.moveable = MoveAble(x,y)\n",
    "        super(MoveAbleAdapter,self).__init__(**kwargs)"
   ]
  },
  {
   "cell_type": "markdown",
   "metadata": {},
   "source": [
    "Our adapter class satisied the requirements and is now not going to pose an issue in case of multiple inheritance."
   ]
  }
 ],
 "metadata": {
  "kernelspec": {
   "display_name": "Python 2",
   "language": "python",
   "name": "python2"
  },
  "language_info": {
   "codemirror_mode": {
    "name": "ipython",
    "version": 2
   },
   "file_extension": ".py",
   "mimetype": "text/x-python",
   "name": "python",
   "nbconvert_exporter": "python",
   "pygments_lexer": "ipython2",
   "version": "2.7.6"
  }
 },
 "nbformat": 4,
 "nbformat_minor": 0
}
