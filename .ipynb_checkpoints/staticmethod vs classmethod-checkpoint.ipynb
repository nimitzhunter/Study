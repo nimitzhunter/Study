{
 "cells": [
  {
   "cell_type": "markdown",
   "metadata": {},
   "source": [
    "###classmethod \n",
    "A normal method has access to an instance of the class. But, any methods marked with '@classmethod' has access to the class. \n",
    "\n",
    "In a normal method, the first argument is required to be \"self\". For a @classmethod, the first argument is \"cls\" which gives access to the whole class. "
   ]
  },
  {
   "cell_type": "code",
   "execution_count": 6,
   "metadata": {
    "collapsed": false
   },
   "outputs": [
    {
     "name": "stdout",
     "output_type": "stream",
     "text": [
      "100\n",
      "100\n",
      "100\n"
     ]
    }
   ],
   "source": [
    "class MyClassMethod(object):\n",
    "    myvalue = 10\n",
    "    @classmethod\n",
    "    def changemyval(cls,a):\n",
    "        cls.myvalue = a\n",
    "    @classmethod\n",
    "    def printmyval(cls):\n",
    "        print cls.myvalue\n",
    "\n",
    "MyClassMethod.changemyval(100)\n",
    "MyClassMethod.printmyval()\n",
    "\n",
    "myClassInstance1 = MyClassMethod()\n",
    "myClassInstance2 = MyClassMethod()\n",
    "\n",
    "myClassInstance1.printmyval()\n",
    "myClassInstance2.printmyval()\n"
   ]
  },
  {
   "cell_type": "markdown",
   "metadata": {},
   "source": [
    "###staticmethod\n",
    "A method marked with \"@staticmethod\" does require *_ANY_* paramter.\n",
    "\n",
    "A staticmethod can be use to restrict what class we use to instantiate an object. "
   ]
  },
  {
   "cell_type": "code",
   "execution_count": 38,
   "metadata": {
    "collapsed": false
   },
   "outputs": [
    {
     "name": "stdout",
     "output_type": "stream",
     "text": [
      "True\n",
      "True\n",
      "test 12/30/2010\n",
      "False\n",
      "True\n",
      "True\n",
      "True\n"
     ]
    }
   ],
   "source": [
    "class MyDate(object):\n",
    "    def __init__(self,mm,dd,yy):\n",
    "        self.month = mm\n",
    "        self.day = dd\n",
    "        self.year = yy\n",
    "   \n",
    "    def show(self):\n",
    "        return '{0}/{1}/{2}'.format(self.month,self.day,self.year)\n",
    "        \n",
    "    # always instantiate an object MyDate. \n",
    "    # even if called by a subclass of MyDate, the object is still an instance of MyDate and not of the subclass\n",
    "    @staticmethod\n",
    "    def generateDate():\n",
    "        return MyDate(10,20,2000)\n",
    "    \n",
    "    # because this method has the access to the class calling it, the object being instantiated belongs to the class\n",
    "    # calling this method\n",
    "    @classmethod\n",
    "    def generateDate2(cls):\n",
    "        return cls(10,20,2000)\n",
    "    \n",
    "class MyDateSubClass(MyDate):\n",
    "    def __init__(self,*kwargs):\n",
    "        super(MyDateSubClass,self).__init__(*kwargs)\n",
    "    \n",
    "object1 = MyDate.generateDate()\n",
    "object2 = MyDate(10,20,2000)\n",
    "\n",
    "print isinstance(object1,MyDate) # return true\n",
    "print isinstance(object2,MyDate) #return true\n",
    "\n",
    "object1 = MyDateSubClass.generateDate()\n",
    "object2 = MyDateSubClass(12,30,2010)\n",
    "\n",
    "print \"test \"+(object2.show())\n",
    "\n",
    "print isinstance(object1,MyDateSubClass) # use generateDate() return an instance of MyDate() instead of MyDateSubClass\n",
    "print isinstance(object2,MyDateSubClass) # use MyDateSubClass.__init__(), thus object 2 is an instance\n",
    "                                         #of MyDateSubClass\n",
    "    \n",
    "#generateDate2 is a class method, it is aware of which class is calling it. \n",
    "# In this case, the method is aware that a subclass is call it. \n",
    "object1 = MyDateSubClass.generateDate2()\n",
    "object2 = MyDateSubClass(12,30,2010)\n",
    "\n",
    "print isinstance(object1,MyDateSubClass) #return True\n",
    "print isinstance(object2,MyDateSubClass) #return True"
   ]
  },
  {
   "cell_type": "markdown",
   "metadata": {},
   "source": [
    "#Summary\n",
    "@classmethod is used when we need access to the class and this could affect all the instances of the class. \n",
    "@staticmethod is used if we need our method to be aware of the class that is calling the static method. "
   ]
  }
 ],
 "metadata": {
  "kernelspec": {
   "display_name": "Python 2",
   "language": "python",
   "name": "python2"
  },
  "language_info": {
   "codemirror_mode": {
    "name": "ipython",
    "version": 2
   },
   "file_extension": ".py",
   "mimetype": "text/x-python",
   "name": "python",
   "nbconvert_exporter": "python",
   "pygments_lexer": "ipython2",
   "version": "2.7.6"
  }
 },
 "nbformat": 4,
 "nbformat_minor": 0
}
