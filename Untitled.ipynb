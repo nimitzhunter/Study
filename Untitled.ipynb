{
 "cells": [
  {
   "cell_type": "markdown",
   "metadata": {},
   "source": [
    "#Class variable\n",
    "\n",
    "A class variable is accessible to all instances of the class. \n",
    "\n",
    "One can access the variable with the 'dot' operator and the variable name. \n",
    "We can access the variable by using the class name."
   ]
  },
  {
   "cell_type": "code",
   "execution_count": 5,
   "metadata": {
    "collapsed": false
   },
   "outputs": [
    {
     "name": "stdout",
     "output_type": "stream",
     "text": [
      "10\n",
      "20\n",
      "10\n",
      "10\n",
      "10\n"
     ]
    }
   ],
   "source": [
    "class MyClass:\n",
    "    class_variable = 10\n",
    "    def __init__(self,val):\n",
    "        self.instance_var = val\n",
    "        \n",
    "a = MyClass(10)\n",
    "b = MyClass(20)\n",
    "\n",
    "print (a.instance_var)\n",
    "print (b.instance_var)\n",
    "print (a.class_variable) # calling the class variable with an instance of MyClass\n",
    "print (b.class_variable) # calling the class variable with an instance of MyClass\n",
    "print (MyClass.class_variable) # calling the class variable with the class name. "
   ]
  },
  {
   "cell_type": "markdown",
   "metadata": {},
   "source": [
    "All instances of the class share the same class varible.\n",
    "\n",
    "An instance's variable can hide the class variable via namespace hierarchy:\n",
    "    1. First python searches the instance variable space, if the variable is found, it is then returned. \n",
    "    2. If the variable doesn't exist in the instance's namespace, then python searches the class namespace. If the variable is found there, it is returned. Else, AttributeError is raised. "
   ]
  },
  {
   "cell_type": "code",
   "execution_count": 7,
   "metadata": {
    "collapsed": true
   },
   "outputs": [
    {
     "name": "stdout",
     "output_type": "stream",
     "text": [
      "10\n",
      "10\n",
      "10\n",
      "9\n",
      "10\n",
      "10\n"
     ]
    }
   ],
   "source": [
    "class MyClass:\n",
    "    myint = 10\n",
    "    \n",
    "a = MyClass()\n",
    "b = MyClass()\n",
    "\n",
    "print (a.myint)\n",
    "print (b.myint)\n",
    "print (MyClass.myint)\n",
    "\n",
    "# now we assign a new value to a.myint, thus associate myint variable to the instance's namespace. \n",
    "a.myint = 9 # myint=9 now hides the class variable myint=10. Now the instance 'a' has the varaible \n",
    "            # myint in its namespace\n",
    "print (a.myint)\n",
    "print (b.myint) # The instance namespace of b doesn't have the variable myint, thus python \n",
    "                # searches the class's namespace for the variable myint\n",
    "print (MyClass.myint) "
   ]
  },
  {
   "cell_type": "code",
   "execution_count": 16,
   "metadata": {
    "collapsed": false
   },
   "outputs": [
    {
     "name": "stdout",
     "output_type": "stream",
     "text": [
      "11\n",
      "20\n",
      "10\n",
      "{'myint': 11}\n",
      "{'myint': 20}\n"
     ]
    }
   ],
   "source": [
    "class MyClass:\n",
    "    myint = 10\n",
    "    def __init__(self,val):\n",
    "        self.myint = val # hide the class variable 'myint'\n",
    "\n",
    "a = MyClass(11)\n",
    "b = MyClass(20)\n",
    "print (a.myint)\n",
    "print (b.myint)\n",
    "print (MyClass.myint)\n",
    "\n",
    "print (a.__dict__)\n",
    "print (b.__dict__)"
   ]
  }
 ],
 "metadata": {
  "kernelspec": {
   "display_name": "Python 3",
   "language": "python",
   "name": "python3"
  },
  "language_info": {
   "codemirror_mode": {
    "name": "ipython",
    "version": 3
   },
   "file_extension": ".py",
   "mimetype": "text/x-python",
   "name": "python",
   "nbconvert_exporter": "python",
   "pygments_lexer": "ipython3",
   "version": "3.4.3"
  }
 },
 "nbformat": 4,
 "nbformat_minor": 0
}
